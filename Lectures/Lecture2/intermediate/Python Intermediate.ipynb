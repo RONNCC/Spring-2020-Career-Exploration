{
 "cells": [
  {
   "cell_type": "markdown",
   "metadata": {},
   "source": [
    "# Lecture 2: \"Introduction\" to Python (Intermediate)\n",
    "## 2/20/19\n",
    "\n",
    "### Table Of Contents\n",
    "* [Q1: Worst Walk on Campus](#section1)\n",
    "* [Q2: Solving Sudoku](#section2)\n",
    "* [Q3: Alien Language](#section3)\n",
    "\n",
    "\n",
    "\n",
    "### Hosted by and maintained by the [Statistics Undergraduate Students Association (SUSA)](https://susa.berkeley.edu). Originally authored by [Ajay Raj](mailto:araj@berkeley.edu).\n"
   ]
  },
  {
   "cell_type": "markdown",
   "metadata": {},
   "source": [
    "Note: CS 61A is a pre-req for this lecture."
   ]
  },
  {
   "cell_type": "markdown",
   "metadata": {},
   "source": [
    "<a id='section1'></a>\n",
    "## Q1: Worst Walk on Campus\n",
    "\n",
    "References: \n",
    "- https://access.berkeley.edu/navigating-berkeley/campus-buildings"
   ]
  },
  {
   "cell_type": "markdown",
   "metadata": {},
   "source": [
    "Some documentation:\n",
    "- https://docs.python.org/3/tutorial/datastructures.html#list-comprehensions\n",
    "- https://docs.python.org/2/library/itertools.html#itertools.combinations\n",
    "- https://docs.python.org/2/library/functions.html"
   ]
  },
  {
   "cell_type": "code",
   "execution_count": 26,
   "metadata": {
    "collapsed": true
   },
   "outputs": [],
   "source": [
    "from geopy.geocoders import Nominatim"
   ]
  },
  {
   "cell_type": "code",
   "execution_count": 27,
   "metadata": {},
   "outputs": [
    {
     "name": "stderr",
     "output_type": "stream",
     "text": [
      "/Users/ajay/anaconda3/envs/deeplearning/lib/python3.6/site-packages/ipykernel_launcher.py:1: DeprecationWarning: Using Nominatim with the default \"geopy/1.18.1\" `user_agent` is strongly discouraged, as it violates Nominatim's ToS https://operations.osmfoundation.org/policies/nominatim/ and may possibly cause 403 and 429 HTTP errors. Please specify a custom `user_agent` with `Nominatim(user_agent=\"my-application\")` or by overriding the default `user_agent`: `geopy.geocoders.options.default_user_agent = \"my-application\"`. In geopy 2.0 this will become an exception.\n",
      "  \"\"\"Entry point for launching an IPython kernel.\n"
     ]
    }
   ],
   "source": [
    "geolocator = Nominatim()\n",
    "building_names = []\n",
    "with open('berkeley/buildings.txt', 'r') as f:\n",
    "    for line in f.readlines():\n",
    "        building_names.append(line.strip())"
   ]
  },
  {
   "cell_type": "code",
   "execution_count": 32,
   "metadata": {},
   "outputs": [],
   "source": [
    "building_names.append('Barker Hall')"
   ]
  },
  {
   "cell_type": "code",
   "execution_count": 33,
   "metadata": {},
   "outputs": [
    {
     "name": "stdout",
     "output_type": "stream",
     "text": [
      "Halls scanned: 68/68\r"
     ]
    }
   ],
   "source": [
    "names_and_coordinates = {}\n",
    "for i, building_name in enumerate(building_names):\n",
    "    location = geolocator.geocode(building_name)\n",
    "    if location and 'Berkeley' in location.address:\n",
    "        names_and_coordinates[building_name] = (location.latitude, location.longitude)\n",
    "    print('Halls scanned: {0}/{1}'.format(i + 1, len(building_names)), end='\\r')"
   ]
  },
  {
   "cell_type": "markdown",
   "metadata": {},
   "source": [
    "If the code in above cell fails in any way, run the cell below instead."
   ]
  },
  {
   "cell_type": "code",
   "execution_count": 21,
   "metadata": {
    "collapsed": true
   },
   "outputs": [],
   "source": [
    "import json\n",
    "\n",
    "names_and_coordinates = json.load(open('berkeley/cal_halls.json'))"
   ]
  },
  {
   "cell_type": "code",
   "execution_count": 30,
   "metadata": {},
   "outputs": [
    {
     "data": {
      "text/plain": [
       "{'Barrows Hall': [37.87010715, -122.257926969474],\n",
       " 'Bechtel Engineering': [37.8741582, -122.2581976],\n",
       " 'Birge Hall': [37.8722153, -122.25723724634],\n",
       " 'Boalt Hall': [37.8699502, -122.253460109101],\n",
       " 'Cory Hall': [37.8750816, -122.257557811467],\n",
       " 'Donner Laboratory': [37.8746048, -122.256474608772],\n",
       " 'Dwinelle Hall': [37.8707038, -122.260723030181],\n",
       " 'Eshleman Hall': [37.86877215, -122.260376875271],\n",
       " 'Etcheverry Hall': [37.87568245, -122.25927741801],\n",
       " 'Genetics & Plant Biology': [37.87342765, -122.264700283583],\n",
       " 'Giannini Hall': [37.8735136, -122.262309559832],\n",
       " 'Gilman Hall': [37.8726613, -122.256294741781],\n",
       " 'Haas Pavilion': [37.86939865, -122.262207935716],\n",
       " 'Haas School of Business': [37.87156265, -122.253652428023],\n",
       " 'Haviland Hall': [37.87381885, -122.261115589054],\n",
       " 'Hearst Mining': [37.873983, -122.2570936],\n",
       " 'Hertz Hall': [37.87105115, -122.255715334468],\n",
       " 'Hesse Hall': [37.87432015, -122.259345063751],\n",
       " 'Hildebrand Hall': [37.87265925, -122.255712362605],\n",
       " 'Hilgard Hall': [37.87330975, -122.263438377085],\n",
       " 'Koshland Hall': [37.87392, -122.264872182504],\n",
       " 'Kroeber Hall': [37.8698251, -122.255195395684],\n",
       " 'Latimer Hall': [37.87312255, -122.255886337076],\n",
       " 'LeConte Hall': [37.8726158, -122.257135626098],\n",
       " 'Martin Luther King Jr Student Union': [37.86904675, -122.259650649505],\n",
       " 'McCone Hall': [37.8741495, -122.259675987707],\n",
       " 'McLaughlin Hall': [37.87382875, -122.25902329826],\n",
       " 'Minor Hall Addition': [37.8713523, -122.255123589225],\n",
       " 'Morgan Hall': [37.87326245, -122.264233151244],\n",
       " 'Moses Hall': [37.870955, -122.258193218834],\n",
       " 'Mulford Hall': [37.87268705, -122.264291510976],\n",
       " \"O'Brien Hall\": [37.8743631, -122.259052053767],\n",
       " 'Pimentel Hall': [37.87341345, -122.256005940344],\n",
       " 'Soda Hall': [37.8756741, -122.258724],\n",
       " 'Sproul Hall': [37.8696038, -122.258773888668],\n",
       " 'Stanley Hall': [37.8739602, -122.256143718098],\n",
       " 'Tan Hall': [37.8731095, -122.256409280539],\n",
       " 'Tang Center': [37.86764805, -122.264442917253],\n",
       " 'Valley Life Sciences Building': [37.87147415, -122.262515605935],\n",
       " 'Wellman Hall': [37.87313495, -122.262780457664],\n",
       " 'Wheeler Hall': [37.87129485, -122.259424153299],\n",
       " 'Wurster Hall': [37.8705429, -122.254893747623],\n",
       " 'Zellerbach Hall': [37.869028, -122.260782232799]}"
      ]
     },
     "execution_count": 30,
     "metadata": {},
     "output_type": "execute_result"
    }
   ],
   "source": [
    "names_and_coordinates"
   ]
  },
  {
   "cell_type": "code",
   "execution_count": 34,
   "metadata": {
    "collapsed": true
   },
   "outputs": [],
   "source": [
    "from math import sin, cos, sqrt, atan2, radians\n",
    "def haversine(lat1, lon1, lat2, lon2):\n",
    "    \"\"\"Calculates the straight line distance between two latitude-longitude coordinates\"\"\"\n",
    "    # approximate radius of earth in miles\n",
    "    R = 3959.0\n",
    "\n",
    "    lat1_r = radians(lat1)\n",
    "    lon1_r = radians(lon1)\n",
    "    lat2_r = radians(lat2)\n",
    "    lon2_r = radians(lon2)\n",
    "\n",
    "    dlon = lon2_r - lon1_r\n",
    "    dlat = lat2_r - lat1_r\n",
    "\n",
    "    a = sin(dlat / 2)**2 + cos(lat1_r) * cos(lat2_r) * sin(dlon / 2)**2\n",
    "    c = 2 * atan2(sqrt(a), sqrt(1 - a))\n",
    "\n",
    "    return R * c"
   ]
  },
  {
   "cell_type": "markdown",
   "metadata": {},
   "source": [
    "You are trying to create the most evil schedule on campus, which contains back-to-back classes in buildings that are the furthest apart on campus. You are given the buildings and coordinates of those locations in a dictionary that can be queried as follows:"
   ]
  },
  {
   "cell_type": "code",
   "execution_count": 35,
   "metadata": {},
   "outputs": [
    {
     "data": {
      "text/plain": [
       "((37.8756246, -122.258713644431), (37.87504855, -122.257296704813))"
      ]
     },
     "execution_count": 35,
     "metadata": {},
     "output_type": "execute_result"
    }
   ],
   "source": [
    "names_and_coordinates['Soda Hall'], names_and_coordinates['Cory Hall']"
   ]
  },
  {
   "cell_type": "markdown",
   "metadata": {},
   "source": [
    "**Write a function that returns a tuple of the furthest two buildings on campus, and the distance in miles between the two.**"
   ]
  },
  {
   "cell_type": "code",
   "execution_count": 36,
   "metadata": {
    "collapsed": true
   },
   "outputs": [],
   "source": [
    "from itertools import combinations\n",
    "\n",
    "def furthest_walk_on_campus(names_and_coordinates):\n",
    "    def key_fn(entry):\n",
    "        (bname1, (lat1, lon1)), (bname2, (lat2, lon2)) = entry\n",
    "        return haversine(lat1, lon1, lat2, lon2)\n",
    "    (bname1, (lat1, lon1)), (bname2, (lat2, lon2)) = max(\n",
    "        combinations(\n",
    "            names_and_coordinates.items(),\n",
    "            2\n",
    "        ),\n",
    "        key=key_fn\n",
    "    )\n",
    "    return bname1, bname2, haversine(lat1, lon1, lat2, lon2)"
   ]
  },
  {
   "cell_type": "code",
   "execution_count": 37,
   "metadata": {
    "scrolled": true
   },
   "outputs": [
    {
     "name": "stdout",
     "output_type": "stream",
     "text": [
      "The furthest walk on campus is Berkeley Way West to Simon Hall, which is 0.8721666538494321 miles\n"
     ]
    }
   ],
   "source": [
    "print('The furthest walk on campus is {0} to {1}, which is {2} miles'.format(*furthest_walk_on_campus(names_and_coordinates)))"
   ]
  },
  {
   "cell_type": "markdown",
   "metadata": {},
   "source": [
    "**Extension**: Distance isn't always the best measure of the worst walk. Use Google Maps Matrix API (https://developers.google.com/maps/documentation/distance-matrix/start)'s time to destination function to rank the walks instead."
   ]
  },
  {
   "cell_type": "markdown",
   "metadata": {},
   "source": [
    "<a id='section2'></a>\n",
    "## Q2: Solving Sudoku"
   ]
  },
  {
   "cell_type": "markdown",
   "metadata": {},
   "source": [
    "References:\n",
    "- http://lipas.uwasa.fi/~timan/sudoku/"
   ]
  },
  {
   "cell_type": "code",
   "execution_count": 1,
   "metadata": {},
   "outputs": [
    {
     "data": {
      "text/plain": [
       "[['0', '0', '0', '0', '0', '3', '0', '1', '7'],\n",
       " ['0', '1', '5', '0', '0', '9', '0', '0', '8'],\n",
       " ['0', '6', '0', '0', '0', '0', '0', '0', '0'],\n",
       " ['1', '0', '0', '0', '0', '7', '0', '0', '0'],\n",
       " ['0', '0', '9', '0', '0', '0', '2', '0', '0'],\n",
       " ['0', '0', '0', '5', '0', '0', '0', '0', '4'],\n",
       " ['0', '0', '0', '0', '0', '0', '0', '2', '0'],\n",
       " ['5', '0', '0', '6', '0', '0', '3', '4', '0'],\n",
       " ['3', '4', '0', '2', '0', '0', '0', '0', '0']]"
      ]
     },
     "execution_count": 1,
     "metadata": {},
     "output_type": "execute_result"
    }
   ],
   "source": [
    "def read_board(filename):\n",
    "    with open(filename, 'r') as f:\n",
    "        lines = f.readlines()\n",
    "        board = []\n",
    "        for line in lines:\n",
    "            board.append(line.split(' ')[:-1])\n",
    "    return board[:-1]\n",
    "\n",
    "read_board('sudoku-puzzles/puzzle1.txt')"
   ]
  },
  {
   "cell_type": "code",
   "execution_count": null,
   "metadata": {
    "collapsed": true
   },
   "outputs": [],
   "source": [
    "def check_solution(original_board, board):\n",
    "    \"\"\"Checks that the board has a valid solution based on Sudoku rules. \n",
    "    This does NOT test all of the rules! Don't use it to help you with the other parts.\n",
    "    \"\"\"\n",
    "    for i in range(len(original_board)):\n",
    "        for j in range(len(original_board[0])):\n",
    "            if original_board[i][j] != '0' and original_board[i][j] != board[i][j]:\n",
    "                return False\n",
    "    for row in board:\n",
    "        if sum(int(digit) for digit in row) != 45:\n",
    "            return False\n",
    "    for col in range(len(original_board[0])):\n",
    "        if sum([int(original_board[i][col]) for i in range(len(original_board))]) != 45:\n",
    "            return False\n",
    "    return True"
   ]
  },
  {
   "cell_type": "markdown",
   "metadata": {},
   "source": [
    "In this problem, you will write a solver for the classic puzzle game, Sudoku. Here are the rules if you are unfamiliar: http://www.counton.org/sudoku/rules-of-sudoku.php\n",
    "\n",
    "You will be implementing a solver using depth-first backtracking search. Don't worry about how complicated it sounds: it's a fancy way of saying, try random numbers in each box, and if you break the rules, erase and start over.\n",
    "\n",
    "We will be representing our board as a list of lists, where each list is a row on the Sudoku board. '0' represents a blank space on the board.\n",
    "\n",
    "**Complete the following functions to create your Sudoku solver.**"
   ]
  },
  {
   "cell_type": "code",
   "execution_count": null,
   "metadata": {
    "collapsed": true
   },
   "outputs": [],
   "source": [
    "def get_first_empty_cell(board):\n",
    "    \"\"\"Gets the first empty cell on the board, left to right, up to down\"\"\"\n",
    "    \"\"\"YOUR CODE HERE\"\"\"\n",
    "    # if none available, return -1, -1\n",
    "    return -1, -1"
   ]
  },
  {
   "cell_type": "code",
   "execution_count": null,
   "metadata": {
    "collapsed": true
   },
   "outputs": [],
   "source": [
    "def is_placement_valid(board, i, j, val):\n",
    "    \"\"\"Checks if placing <val> at position (i, j) on the board is a valid move\"\"\"\n",
    "    \"\"\"YOUR CODE HERE\"\"\""
   ]
  },
  {
   "cell_type": "code",
   "execution_count": null,
   "metadata": {
    "collapsed": true
   },
   "outputs": [],
   "source": [
    "def solve(board):\n",
    "    \"\"\"Solves a Sudoku board: here are the steps:\n",
    "    \n",
    "        1. Find an empty cell\n",
    "        2. Find a value to place in that empty cell, if none exist (-1, -1), return True (because all spaces are filled)\n",
    "        3. Place the value in the empty cell\n",
    "        4. Recursively call solve(board):\n",
    "            a. If a solution is found, return it\n",
    "            b. If no solution is found with this placement, replace the value with '0', and try a new value\n",
    "        5. Return False if there is no value to place\n",
    "    \"\"\"\n",
    "    \"\"\"YOUR CODE HERE\"\"\""
   ]
  },
  {
   "cell_type": "code",
   "execution_count": null,
   "metadata": {
    "collapsed": true
   },
   "outputs": [],
   "source": [
    "# Run this cell to test your code on the sample puzzles\n",
    "\n",
    "puzzles = ['sudoku-puzzles/puzzle1.txt', 'sudoku-puzzles/puzzle2.txt']\n",
    "\n",
    "for puzzle in puzzles:\n",
    "    original_board = read_board(puzzle)\n",
    "    print('Testing', puzzle)\n",
    "    if not check_solution(original_board, solve(original_board)):\n",
    "        print('Failed on', puzzle)"
   ]
  },
  {
   "cell_type": "markdown",
   "metadata": {
    "collapsed": true
   },
   "source": [
    "<a id='section3'></a>\n",
    "## Q3: Alien Language"
   ]
  },
  {
   "cell_type": "code",
   "execution_count": null,
   "metadata": {
    "collapsed": true
   },
   "outputs": [],
   "source": [
    "from collections import defaultdict\n",
    "import random\n",
    "from numpy import allclose\n",
    "\n",
    "alphabet = ''.join([chr(97 + i) for i in range(26)])\n",
    "english_frequencies = {\n",
    "    'a': 0.08924485125858124,\n",
    "    'b': 0.02517162471395881,\n",
    "    'c': 0.038901601830663615,\n",
    "    'd': 0.02745995423340961,\n",
    "    'e': 0.11441647597254005,\n",
    "    'f': 0.02517162471395881,\n",
    "    'g': 0.02288329519450801,\n",
    "    'h': 0.043478260869565216,\n",
    "    'i': 0.07322654462242563,\n",
    "    'k': 0.009153318077803204,\n",
    "    'l': 0.034324942791762014,\n",
    "    'm': 0.041189931350114416,\n",
    "    'n': 0.05491990846681922,\n",
    "    'o': 0.08466819221967964,\n",
    "    'p': 0.016018306636155607,\n",
    "    'q': 0.002288329519450801,\n",
    "    'r': 0.05491990846681922,\n",
    "    's': 0.07093821510297482,\n",
    "    't': 0.09610983981693363,\n",
    "    'u': 0.036613272311212815,\n",
    "    'v': 0.009153318077803204,\n",
    "    'w': 0.004576659038901602,\n",
    "    'y': 0.02288329519450801,\n",
    "    'z': 0.002288329519450801\n",
    "}"
   ]
  },
  {
   "cell_type": "code",
   "execution_count": null,
   "metadata": {
    "collapsed": true
   },
   "outputs": [],
   "source": [
    "alphabet"
   ]
  },
  {
   "cell_type": "markdown",
   "metadata": {},
   "source": [
    "You've received an alien transmission from above! It might be the answer: to your life, to the planet, to the universe, to everything!"
   ]
  },
  {
   "cell_type": "code",
   "execution_count": null,
   "metadata": {
    "collapsed": true
   },
   "outputs": [],
   "source": [
    "secret = open('alien/secret.txt').readline().strip()\n",
    "secret"
   ]
  },
  {
   "cell_type": "markdown",
   "metadata": {},
   "source": [
    "That's alien language, all right. Fortunately, they've left you the following note:"
   ]
  },
  {
   "cell_type": "code",
   "execution_count": null,
   "metadata": {
    "collapsed": true
   },
   "outputs": [],
   "source": [
    "partial_mapping = {\n",
    "    'f': 'r',\n",
    "    'g': 'f',\n",
    "    'i': 'n',\n",
    "    'n': 'y',\n",
    "    'u': 'z',\n",
    "    'm': 'v'\n",
    "}"
   ]
  },
  {
   "cell_type": "markdown",
   "metadata": {},
   "source": [
    "You realize that this alien language isn't so foreign at all, it is a simple **substitution cipher** of the English language, which means that every letter in the alien language corresponds to exactly one letter in the English alphabet.\n",
    "\n",
    "As a short-sighted mammal, you believe that alien life is similar to life on Earth. As a minor linguist yourself, you have the frequencies that each English letter appears in literature. To discover the rest of the mapping, you decide to find the frequencies that each letter appears in the alien text, map it to the closest frequency in the English alphabet.\n",
    "\n",
    "**Complete the following functions to translate the text:**"
   ]
  },
  {
   "cell_type": "code",
   "execution_count": null,
   "metadata": {
    "collapsed": true
   },
   "outputs": [],
   "source": [
    "def get_frequencies(text):\n",
    "    \"\"\"Creates a dictionary where each key is a letter of the alphabet, and each corresponding value is\n",
    "    the frequency (number of times the letter appears / total number of letters in the passage).\n",
    "    Don't forget to ignore spaces!\"\"\"\n",
    "    \"\"\"YOUR CODE HERE\"\"\""
   ]
  },
  {
   "cell_type": "code",
   "execution_count": null,
   "metadata": {
    "collapsed": true
   },
   "outputs": [],
   "source": [
    "def permute(text, mapping):\n",
    "    \"\"\"Converts every letter in <text> to its substitution in <mapping>, and return the mapped text\"\"\"\n",
    "    \"\"\"YOUR CODE HERE\"\"\""
   ]
  },
  {
   "cell_type": "code",
   "execution_count": null,
   "metadata": {
    "collapsed": true
   },
   "outputs": [],
   "source": [
    "def get_mapping(partial_mapping, english_frequencies, alien_frequencies):\n",
    "    \"\"\"Complete <partial_mapping> by matching each unmapped letter in <alien_frequencies> to its corresponding\n",
    "    English letter\"\"\"\n",
    "    \"\"\"YOUR CODE HERE\"\"\""
   ]
  },
  {
   "cell_type": "code",
   "execution_count": null,
   "metadata": {
    "collapsed": true
   },
   "outputs": [],
   "source": [
    "def translate(alien_text, partial_mapping):\n",
    "    \"\"\"Translate the alien text, by completing the mapping and substituting.\"\"\"\n",
    "    \"\"\"YOUR CODE HERE\"\"\""
   ]
  },
  {
   "cell_type": "code",
   "execution_count": null,
   "metadata": {
    "collapsed": true
   },
   "outputs": [],
   "source": [
    "print('The answer to life itself is: ', translate(secret, partial_mapping))"
   ]
  }
 ],
 "metadata": {
  "kernelspec": {
   "display_name": "Python (deeplearning)",
   "language": "python",
   "name": "deeplearning"
  },
  "language_info": {
   "codemirror_mode": {
    "name": "ipython",
    "version": 3
   },
   "file_extension": ".py",
   "mimetype": "text/x-python",
   "name": "python",
   "nbconvert_exporter": "python",
   "pygments_lexer": "ipython3",
   "version": "3.6.3"
  }
 },
 "nbformat": 4,
 "nbformat_minor": 2
}
